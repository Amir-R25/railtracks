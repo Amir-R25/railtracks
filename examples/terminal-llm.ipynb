{
 "cells": [
  {
   "cell_type": "markdown",
   "id": "5c626569d33a13ec",
   "metadata": {},
   "source": [
    "# Terminal LLM\n",
    "In the following document we will outline how to use the terminal LLM. It is a common use case for a simple LLM with a system prompt and a text output"
   ]
  },
  {
   "cell_type": "code",
   "execution_count": 2,
   "id": "initial_id",
   "metadata": {
    "ExecuteTime": {
     "end_time": "2025-02-10T19:59:12.541399Z",
     "start_time": "2025-02-10T19:59:07.975405Z"
    },
    "collapsed": true
   },
   "outputs": [
    {
     "name": "stderr",
     "output_type": "stream",
     "text": [
      "c:\\Users\\Logan\\Documents\\rc\\.venv\\lib\\site-packages\\requests\\__init__.py:86: RequestsDependencyWarning: Unable to find acceptable character detection dependency (chardet or charset_normalizer).\n",
      "  warnings.warn(\n"
     ]
    }
   ],
   "source": [
    "import requestcompletion as rc"
   ]
  },
  {
   "cell_type": "code",
   "execution_count": null,
   "id": "6f8ed72aa6cfc093",
   "metadata": {
    "ExecuteTime": {
     "end_time": "2025-02-10T19:59:59.001378Z",
     "start_time": "2025-02-10T19:59:58.974468Z"
    }
   },
   "outputs": [],
   "source": [
    "system_message = rc.llm.SystemMessage(\"You are a helpful AI writing assistant. You should provide suggestions and corrections to the user's writing. Keep your advice concise and to the point.\")\n",
    "\n",
    "WritingEditor = rc.library.terminal_llm(\"Writing Editor\", system_message=system_message, model=rc.llm.OpenAILLM(\"gpt-4o\"))\n"
   ]
  },
  {
   "cell_type": "code",
   "execution_count": 6,
   "id": "372f4fbc62f01588",
   "metadata": {
    "ExecuteTime": {
     "end_time": "2025-02-10T20:00:02.389835Z",
     "start_time": "2025-02-10T19:59:59.584787Z"
    }
   },
   "outputs": [
    {
     "name": "stdout",
     "output_type": "stream",
     "text": [
      "Your opening paragraph sets a peaceful scene, but you might consider adding more specific details to make it more vivid. Here’s a suggestion:\n",
      "\n",
      "\"The sun dipped below the horizon, casting a golden glow across the rolling hills. Sparrows flitted between the branches, their chirping a soft melody, while a gentle breeze whispered through the rustling oak leaves.\"\n",
      "\n",
      "This version adds specificity and a bit more imagery to engage the reader.\n"
     ]
    }
   ],
   "source": [
    "# note the system message will be automatically added so don't include it in the message history\n",
    "mess_hist = rc.llm.MessageHistory([\n",
    "    rc.llm.UserMessage(\"I am a writer who is working on a novel. Here is my first paragraph: 'The sun was setting over the horizon, casting a warm glow over the landscape. The birds were chirping in the trees, and a gentle breeze rustled the leaves.'\"),\n",
    "])\n",
    "\n",
    "with rc.Runner() as runner:\n",
    "    info = await runner.run(WritingEditor, message_history=mess_hist)\n",
    "\n",
    "print(info.answer)"
   ]
  },
  {
   "cell_type": "code",
   "execution_count": null,
   "id": "8dace52aef3f2f1c",
   "metadata": {},
   "outputs": [],
   "source": []
  }
 ],
 "metadata": {
  "kernelspec": {
   "display_name": ".venv",
   "language": "python",
   "name": "python3"
  },
  "language_info": {
   "codemirror_mode": {
    "name": "ipython",
    "version": 3
   },
   "file_extension": ".py",
   "mimetype": "text/x-python",
   "name": "python",
   "nbconvert_exporter": "python",
   "pygments_lexer": "ipython3",
   "version": "3.10.11"
  }
 },
 "nbformat": 4,
 "nbformat_minor": 5
}
