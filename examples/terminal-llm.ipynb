{
 "cells": [
  {
   "cell_type": "markdown",
   "id": "5c626569d33a13ec",
   "metadata": {},
   "source": [
    "# Terminal LLM\n",
    "In the following document we will outline how to use the terminal LLM. It is a common use case for a simple LLM with a system prompt and a text output"
   ]
  },
  {
   "cell_type": "code",
   "id": "initial_id",
   "metadata": {
    "collapsed": true,
    "ExecuteTime": {
     "end_time": "2025-02-10T19:59:12.541399Z",
     "start_time": "2025-02-10T19:59:07.975405Z"
    }
   },
   "source": [
    "import requestcompletion as rc"
   ],
   "outputs": [],
   "execution_count": 1
  },
  {
   "cell_type": "code",
   "id": "6f8ed72aa6cfc093",
   "metadata": {
    "ExecuteTime": {
     "end_time": "2025-02-10T19:59:59.001378Z",
     "start_time": "2025-02-10T19:59:58.974468Z"
    }
   },
   "source": [
    "class WritingEditor(rc.library.TerminalLLM):\n",
    "    @classmethod\n",
    "    def system_message(cls) -> str:\n",
    "        # define your system message here\n",
    "        return \"You are a helpful AI writing assistant. You should provide suggestions and corrections to the user's writing. Keep your advice concise and to the point.\"\n",
    "\n",
    "    @classmethod\n",
    "    def create_model(cls) -> rc.llm.ModelBase:\n",
    "        # you can choose the LLM you want to use here. \n",
    "        return rc.llm.OpenAILLM(\"gpt-4o\")\n",
    "    \n",
    "    def __init__(\n",
    "            self,\n",
    "            message_history: rc.llm.MessageHistory\n",
    "    ):\n",
    "        message_history.insert(0, rc.llm.SystemMessage(self.system_message()))\n",
    "        super().__init__(\n",
    "            message_history=message_history,\n",
    "            model=self.create_model(),\n",
    "        )\n",
    "\n",
    "    @classmethod\n",
    "    def pretty_name(cls) -> str:\n",
    "        return \"Writing Editor\""
   ],
   "outputs": [],
   "execution_count": 4
  },
  {
   "cell_type": "code",
   "id": "372f4fbc62f01588",
   "metadata": {
    "ExecuteTime": {
     "end_time": "2025-02-10T20:00:02.389835Z",
     "start_time": "2025-02-10T19:59:59.584787Z"
    }
   },
   "source": [
    "# note the system message will be automatically added so don't include it in the message history\n",
    "mess_hist = rc.llm.MessageHistory([\n",
    "    rc.llm.UserMessage(\"I am a writer who is working on a novel. Here is my first paragraph: 'The sun was setting over the horizon, casting a warm glow over the landscape. The birds were chirping in the trees, and a gentle breeze rustled the leaves.'\"),\n",
    "])\n",
    "with rc.Runner() as runner:\n",
    "    info = runner.run_sync(WritingEditor, message_history=mess_hist)\n",
    "\n",
    "print(info.answer)"
   ],
   "outputs": [
    {
     "name": "stdout",
     "output_type": "stream",
     "text": [
      "Your opening paragraph sets a peaceful scene, but you might consider adding more specific details to make it more vivid. Here’s a suggestion:\n",
      "\n",
      "\"The sun dipped below the horizon, casting a golden glow across the rolling hills. Sparrows flitted among the oak trees, their chirping harmonizing with the gentle rustle of leaves stirred by the evening breeze.\"\n"
     ]
    }
   ],
   "execution_count": 5
  },
  {
   "metadata": {},
   "cell_type": "code",
   "outputs": [],
   "execution_count": null,
   "source": "",
   "id": "8dace52aef3f2f1c"
  }
 ],
 "metadata": {
  "kernelspec": {
   "display_name": "Python 3",
   "language": "python",
   "name": "python3"
  },
  "language_info": {
   "codemirror_mode": {
    "name": "ipython",
    "version": 2
   },
   "file_extension": ".py",
   "mimetype": "text/x-python",
   "name": "python",
   "nbconvert_exporter": "python",
   "pygments_lexer": "ipython2",
   "version": "2.7.6"
  }
 },
 "nbformat": 4,
 "nbformat_minor": 5
}
