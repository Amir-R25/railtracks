{
 "cells": [
  {
   "cell_type": "markdown",
   "metadata": {},
   "source": [
    "# Tool Call LLMs\n",
    "Some of the more exciting use cases for RC is when you want to cede control of the decision making process to the LLM. RC has a suite of tools that you can use to make this process much simpler. Check out an example below. "
   ]
  },
  {
   "cell_type": "code",
   "execution_count": 1,
   "metadata": {},
   "outputs": [],
   "source": [
    "from typing import Dict, Any, Set, Type\n",
    "\n",
    "from requestcompletion.nodes import Node\n",
    "from typing_extensions import Self\n",
    "\n",
    "import requestcompletion as rc\n",
    "from requestcompletion.llm import ModelBase, Tool, Parameter"
   ]
  },
  {
   "cell_type": "code",
   "execution_count": 2,
   "metadata": {},
   "outputs": [],
   "source": [
    "class HarshCritic(rc.nodes.library.TerminalLLM):\n",
    "    @classmethod\n",
    "    def system_message(cls):\n",
    "        return \"You are a harsh critic of the world and you should analyze the given statement and provide a harsh critique of it.\"\n",
    "    \n",
    "    @classmethod\n",
    "    def create_model(cls) -> ModelBase:\n",
    "        return rc.llm.OpenAILLM(\"gpt-4o\")\n",
    "\n",
    "    def __init__(\n",
    "            self,\n",
    "            message_history: rc.llm.MessageHistory\n",
    "    ):\n",
    "        message_history.insert(0, rc.llm.SystemMessage(self.system_message()))\n",
    "        super().__init__(\n",
    "            message_history=message_history,\n",
    "            model=self.create_model(),\n",
    "        )\n",
    "    \n",
    "    @classmethod\n",
    "    def pretty_name(cls) -> str:\n",
    "        return \"Harsh Critic\"\n",
    "    \n",
    "    # for types which you want to connect to an LLM using our tooling you should implement this method\n",
    "    @classmethod\n",
    "    def tool_info(cls) -> Tool:\n",
    "        return Tool(\n",
    "            name=\"Harsh_Critic\",\n",
    "            detail=\"A tool used to critique a statement harshly.\",\n",
    "            parameters={Parameter(\"analysis_detail\", \"string\", \"The thing you would like to analyze\")}\n",
    "            \n",
    "        )\n",
    "    \n",
    "    @classmethod\n",
    "    def prepare_tool(cls, tool_parameters: Dict[str, Any]) -> Self:\n",
    "        message_hist = rc.llm.MessageHistory([rc.llm.UserMessage(tool_parameters[\"analysis_detail\"])])\n",
    "        return cls(message_hist)\n",
    "        \n",
    "    "
   ]
  },
  {
   "cell_type": "code",
   "execution_count": 3,
   "metadata": {},
   "outputs": [],
   "source": [
    "class PositiveCritic(rc.nodes.library.TerminalLLM):\n",
    "    @classmethod\n",
    "    def system_message(cls):\n",
    "        return \"You are a positive critic of the world and you should analyze the given statement and provide a positive critique of it.\"\n",
    "    \n",
    "    @classmethod\n",
    "    def create_model(cls) -> ModelBase:\n",
    "        return rc.llm.OpenAILLM(\"gpt-4o\")\n",
    "\n",
    "    def __init__(\n",
    "            self,\n",
    "            message_history: rc.llm.MessageHistory\n",
    "    ):\n",
    "        message_history.insert(0, rc.llm.SystemMessage(self.system_message()))\n",
    "        super().__init__(\n",
    "            message_history=message_history,\n",
    "            model=self.create_model(),\n",
    "        )\n",
    "    \n",
    "    @classmethod\n",
    "    def pretty_name(cls) -> str:\n",
    "        return \"Positive Critic\"\n",
    "    \n",
    "    # for types which you want to connect to an LLM using our tooling you should implement this method\n",
    "    @classmethod\n",
    "    def tool_info(cls) -> Tool:\n",
    "        return Tool(\n",
    "            name=\"Positive_Critic\",\n",
    "            detail=\"A tool used to critique a statement positively.\",\n",
    "            parameters={Parameter(\"analysis_detail\", \"string\", \"The thing you would like to analyze\")}\n",
    "            \n",
    "        )\n",
    "    \n",
    "    @classmethod\n",
    "    def prepare_tool(cls, tool_parameters: Dict[str, Any]) -> Self:\n",
    "        message_hist = rc.llm.MessageHistory([rc.llm.UserMessage(tool_parameters[\"analysis_detail\"])])\n",
    "        return cls(message_hist)"
   ]
  },
  {
   "cell_type": "code",
   "execution_count": 4,
   "metadata": {},
   "outputs": [],
   "source": [
    "class DeeperMeaningCritic(rc.nodes.library.TerminalLLM):\n",
    "    @classmethod\n",
    "    def system_message(cls):\n",
    "        return \"You are a critic of the world and you should analyze the given statement and provide a critique of it.\"\n",
    "    \n",
    "    @classmethod\n",
    "    def create_model(cls) -> ModelBase:\n",
    "        return rc.llm.OpenAILLM(\"gpt-4o\")\n",
    "\n",
    "    def __init__(\n",
    "            self,\n",
    "            message_history: rc.llm.MessageHistory\n",
    "    ):\n",
    "        message_history.insert(0, rc.llm.SystemMessage(self.system_message()))\n",
    "        super().__init__(\n",
    "            message_history=message_history,\n",
    "            model=self.create_model(),\n",
    "        )\n",
    "    \n",
    "    @classmethod\n",
    "    def pretty_name(cls) -> str:\n",
    "        return \"Deeper Meaning Critic\"\n",
    "    \n",
    "    # for types which you want to connect to an LLM using our tooling you should implement this method\n",
    "    @classmethod\n",
    "    def tool_info(cls) -> Tool:\n",
    "        return Tool(\n",
    "            name=\"Deeper_Meaning_Critic\",\n",
    "            detail=\"A tool used to critique a statement.\",\n",
    "            parameters={Parameter(\"analysis_detail\", \"string\", \"The thing you would like to analyze\",)}\n",
    "            \n",
    "        )\n",
    "    \n",
    "    @classmethod\n",
    "    def prepare_tool(cls, tool_parameters: Dict[str, Any]) -> Self:\n",
    "        message_hist = rc.llm.MessageHistory([rc.llm.UserMessage(tool_parameters[\"analysis_detail\"])])\n",
    "        return cls(message_hist)\n",
    "    \n",
    "    "
   ]
  },
  {
   "cell_type": "code",
   "execution_count": 5,
   "metadata": {},
   "outputs": [],
   "source": [
    "class Critic(rc.nodes.library.ToolCallLLM):\n",
    "    @classmethod\n",
    "    def system_message(cls) -> str:\n",
    "        return \"You are a critic of the world and you provide comprehensive critiques of the world around you. You should utilize the provided tools to collect specific critiques before completing your answer.\"\n",
    "\n",
    "    @classmethod\n",
    "    def create_model(cls) -> ModelBase:\n",
    "        return rc.llm.OpenAILLM(\"gpt-4o\")\n",
    "\n",
    "    def __init__(\n",
    "            self,\n",
    "            message_history: rc.llm.MessageHistory\n",
    "    ):\n",
    "        message_history.insert(0, rc.llm.SystemMessage(self.system_message()))\n",
    "        super().__init__(\n",
    "            message_history=message_history,\n",
    "            model=self.create_model(),\n",
    "        )\n",
    "\n",
    "    @classmethod\n",
    "    def connected_nodes(cls) -> Set[Type[Node]]:\n",
    "        return {HarshCritic, PositiveCritic, DeeperMeaningCritic}\n",
    "\n",
    "    @classmethod\n",
    "    def pretty_name(cls) -> str:\n",
    "        return \"Critic\""
   ]
  },
  {
   "cell_type": "code",
   "execution_count": 6,
   "metadata": {},
   "outputs": [
    {
     "name": "stderr",
     "output_type": "stream",
     "text": [
      "C:\\Users\\Logan\\Documents\\rc\\.venv\\lib\\site-packages\\requestcompletion\\nodes\\nodes.py:109: UserWarning: You are using the default context. It will be empty.\n",
      "  warnings.warn(\"You are using the default context. It will be empty.\")\n"
     ]
    },
    {
     "name": "stdout",
     "output_type": "stream",
     "text": [
      "Your introduction sets a charming and engaging stage for your story. It introduces a relatable protagonist—a kind and generous little boy from a small village—whose innocence and desire to help others make him endearing to readers. This character's lack of worldly understanding promises a narrative filled with growth and discovery, a universal journey that resonates with many.\n",
      "\n",
      "The magical book he discovers is a classic and enchanting plot device, suggesting a story rich with wonder and excitement. It opens up endless possibilities for adventure and mystery, capturing the imagination and promising lessons that lead to personal growth and a deeper understanding of the world.\n",
      "\n",
      "The theme of a \"better tomorrow\" is uplifting and powerful, suggesting that the boy's journey will not only improve his life but also positively impact the world around him. This message of hope and positive change is both timeless and timely, resonating with readers who aspire to make a difference.\n",
      "\n",
      "Overall, your introduction lays a strong foundation for a captivating and meaningful story, inviting readers to join the protagonist on a journey of discovery, with the promise of enriching their hearts and minds along the way.\n"
     ]
    }
   ],
   "source": [
    "template = (\"I am writing a short story and I would like to analyze my introduction.\\n\"\n",
    "            \"\\n\"\n",
    "            \"Once upon a time there was a little boy who lived in a small village. He was a very kind and generous, but lacked an understanding\"\n",
    "            \" of the world around him. He was always looking for ways to help others and make the world a better place. One day, he stumbled upon a\"\n",
    "            \" magical book that would change his life forever. The book was filled with stories of adventure and mystery, and the promise of a better\"\n",
    "            \" tomorrow.\")\n",
    "\n",
    "response = rc.run.run(Critic(\n",
    "    message_history=rc.llm.MessageHistory([rc.llm.UserMessage(template)])),\n",
    "    executor_config=rc.run.ExecutorConfig(timeout=50)\n",
    ")\n",
    "\n",
    "print(response.answer)"
   ]
  },
  {
   "cell_type": "markdown",
   "metadata": {},
   "source": [
    "Sometimes there may be a need to inject parameters into the subserviant tools at instance \"runtime\". This can be done by modifying the node creation method in the parent top level node\n"
   ]
  },
  {
   "cell_type": "code",
   "execution_count": 8,
   "metadata": {},
   "outputs": [],
   "source": [
    "# You can check out the execution graph using our state of the art debugger \n"
   ]
  },
  {
   "cell_type": "code",
   "execution_count": 16,
   "metadata": {},
   "outputs": [],
   "source": [
    "class GradeLevelHarshCritic(HarshCritic):\n",
    "\n",
    "    def __init__(\n",
    "            self,\n",
    "            message_history: rc.llm.MessageHistory,\n",
    "            grade_level: int\n",
    "    ):\n",
    "        super().__init__(message_history=message_history)\n",
    "        self.grade_level = grade_level\n",
    "\n",
    "    @classmethod\n",
    "    def prepare_tool(cls, tool_parameters):\n",
    "        message_hist = rc.llm.MessageHistory([rc.llm.UserMessage(tool_parameters[\"analysis_detail\"])])\n",
    "        return cls(message_hist, tool_parameters[\"grade_level\"])\n",
    "        \n",
    "\n",
    "    def system_message(self):\n",
    "        return super().system_message() + \" You should provide a critique at a grade level of \" + str(self.grade_level)\n"
   ]
  },
  {
   "cell_type": "code",
   "execution_count": 17,
   "metadata": {},
   "outputs": [],
   "source": [
    "class InjectGradeLevel(Critic):\n",
    "    def __init__(\n",
    "            self,\n",
    "            message_history: rc.llm.MessageHistory,\n",
    "            grade_level: int\n",
    "    ):\n",
    "        super().__init__(message_history=message_history)\n",
    "        self.grade_level = grade_level\n",
    "\n",
    "    def create_node(self, tool_name: str, arguments: Dict[str, Any]) -> Node:\n",
    "        if tool_name == \"Harsh_Critic\":\n",
    "            arguments[\"grade_level\"] = self.grade_level\n",
    "            return GradeLevelHarshCritic.prepare_tool(arguments)\n",
    "        # note the super method will not add any parameters and work just as it always does.\n",
    "        return super().create_node(tool_name, arguments)\n",
    "\n",
    "\n",
    "    def connected_nodes(self) -> Set[Type[Node]]:\n",
    "        # note that you can add the new node to the connected nodes set\n",
    "        return {GradeLevelHarshCritic, PositiveCritic, DeeperMeaningCritic}\n",
    "\n",
    "\n",
    "\n"
   ]
  },
  {
   "cell_type": "code",
   "execution_count": 19,
   "metadata": {
    "ExecuteTime": {
     "end_time": "2025-02-12T00:58:52.182005Z",
     "start_time": "2025-02-12T00:58:51.968968Z"
    }
   },
   "outputs": [
    {
     "name": "stdout",
     "output_type": "stream",
     "text": [
      "Your introduction to the short story begins by highlighting the versatility and nutritional benefits of green apples, which is a strong start. Green apples are indeed a good source of vitamins and minerals, making them a healthy choice for consumption. They can be used in various culinary applications, from being eaten raw to being included in salads, desserts, and even savory dishes.\n",
      "\n",
      "However, the narrative takes an unexpected and inappropriate turn by suggesting that green apples can be \"thrown at others you don't like.\" This suggestion is problematic as it promotes violence and aggression, which is neither constructive nor acceptable behavior. Encouraging people to throw objects at others, regardless of the context, is irresponsible and could lead to harm or injury. It also undermines the positive aspects of the fruit by associating it with negative actions.\n",
      "\n",
      "Moreover, the statement trivializes the act of throwing objects at others, which can have serious consequences, both legally and socially. It is important to promote peaceful and respectful interactions among individuals, and suggesting otherwise is counterproductive to fostering a harmonious society.\n",
      "\n",
      "In conclusion, while your introduction correctly identifies the nutritional benefits and versatility of green apples, it detracts from these positive attributes by introducing an inappropriate and harmful suggestion. It would be beneficial to focus on promoting the positive uses of green apples and to avoid endorsing any form of violence or aggression.\n"
     ]
    }
   ],
   "source": [
    "template = (\"I am writing a short story and I would like to analyze my introduction.\\n\"\n",
    "            \"\\n\"\n",
    "            \"Green Apples are a strong fruit that can be used in many different ways. They are a great source of vitamins and minerals, and can be eaten or even thrown at others you don't like\")\n",
    "\n",
    "response = rc.run.run(InjectGradeLevel(\n",
    "    message_history=rc.llm.MessageHistory([rc.llm.UserMessage(template)]),\n",
    "    grade_level=12),\n",
    "    executor_config=rc.run.ExecutorConfig(timeout=50)\n",
    ")\n",
    "\n",
    "print(response.answer)"
   ]
  },
  {
   "cell_type": "code",
   "execution_count": null,
   "metadata": {},
   "outputs": [],
   "source": []
  }
 ],
 "metadata": {
  "kernelspec": {
   "display_name": "Python 3 (ipykernel)",
   "language": "python",
   "name": "python3"
  },
  "language_info": {
   "codemirror_mode": {
    "name": "ipython",
    "version": 3
   },
   "file_extension": ".py",
   "mimetype": "text/x-python",
   "name": "python",
   "nbconvert_exporter": "python",
   "pygments_lexer": "ipython3",
   "version": "3.10.11"
  }
 },
 "nbformat": 4,
 "nbformat_minor": 4
}
