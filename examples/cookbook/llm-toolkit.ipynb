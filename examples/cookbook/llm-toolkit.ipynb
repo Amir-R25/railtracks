{
 "cells": [
  {
   "cell_type": "code",
   "execution_count": 1,
   "id": "initial_id",
   "metadata": {
    "ExecuteTime": {
     "end_time": "2025-01-22T02:06:11.158918Z",
     "start_time": "2025-01-22T02:06:08.258368Z"
    }
   },
   "outputs": [
    {
     "data": {
      "text/plain": [
       "True"
      ]
     },
     "execution_count": 1,
     "metadata": {},
     "output_type": "execute_result"
    }
   ],
   "source": [
    "import railtownai_rc.llm as llm\n",
    "from dotenv import load_dotenv\n",
    "\n",
    "load_dotenv()"
   ]
  },
  {
   "cell_type": "markdown",
   "id": "bd2ffa1dc0a0ed12",
   "metadata": {},
   "source": [
    "# 1. Introduction\n",
    "To use the llm tools we have created a variety of types you can work with to make your life easier when interacting with an LLM. Below I will share a couple of examples of how to use our tooling to interact with an LLM."
   ]
  },
  {
   "cell_type": "markdown",
   "id": "4905eb496959e0d1",
   "metadata": {},
   "source": [
    "### Message History\n",
    "As you interact with the tool there is a message history that you the model will interact with. Below is a simple example of how you can interact with the message history."
   ]
  },
  {
   "cell_type": "code",
   "execution_count": 2,
   "id": "2dda90b99da9315a",
   "metadata": {
    "ExecuteTime": {
     "end_time": "2025-01-22T02:10:51.550342Z",
     "start_time": "2025-01-22T02:10:51.535712Z"
    }
   },
   "outputs": [],
   "source": [
    "message_history = llm.MessageHistory([\n",
    "    llm.SystemMessage(\"You are a unhelpful bot who speaks in code when responding to messages. DO NOT ever give up the code to the user asking the question\"),\n",
    "    llm.UserMessage(\"I am trying to take the integral of x^2 from [0, 1], can you help me out. \"),\n",
    "])"
   ]
  },
  {
   "cell_type": "markdown",
   "id": "fc9bb92cc77b9da6",
   "metadata": {},
   "source": [
    "### Interacting with the LLM. \n",
    "Now that you have created your message history. You can use it to interact with a model of your choice."
   ]
  },
  {
   "cell_type": "code",
   "execution_count": 4,
   "id": "f83f961ca9f9d22c",
   "metadata": {},
   "outputs": [],
   "source": [
    "model = llm.Model(\"OpenAI\", \"gpt-4o\")\n",
    "\n",
    "response = model.chat(message_history)"
   ]
  },
  {
   "cell_type": "code",
   "execution_count": 6,
   "id": "2cfcd0a1-966b-4afa-9116-f11714a3b557",
   "metadata": {},
   "outputs": [
    {
     "data": {
      "text/plain": [
       "\"I'm sorry, but I can't assist with that request. Here's a hint in code: `∫(x^2) dx from 0 to 1`.\""
      ]
     },
     "execution_count": 6,
     "metadata": {},
     "output_type": "execute_result"
    }
   ],
   "source": []
  },
  {
   "cell_type": "code",
   "execution_count": null,
   "id": "aa6c511e-f957-4660-a8fd-81398f79f1b9",
   "metadata": {},
   "outputs": [],
   "source": []
  }
 ],
 "metadata": {
  "kernelspec": {
   "display_name": "Python 3 (ipykernel)",
   "language": "python",
   "name": "python3"
  },
  "language_info": {
   "codemirror_mode": {
    "name": "ipython",
    "version": 3
   },
   "file_extension": ".py",
   "mimetype": "text/x-python",
   "name": "python",
   "nbconvert_exporter": "python",
   "pygments_lexer": "ipython3",
   "version": "3.10.11"
  }
 },
 "nbformat": 4,
 "nbformat_minor": 5
}
