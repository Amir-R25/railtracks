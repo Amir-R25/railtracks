{
 "cells": [
  {
   "cell_type": "code",
   "execution_count": 1,
   "metadata": {},
   "outputs": [],
   "source": [
    "import requestcompletion as rc\n",
    "from requestcompletion.RAG import EasyRAGClass, RAG"
   ]
  },
  {
   "cell_type": "code",
   "execution_count": 2,
   "metadata": {},
   "outputs": [],
   "source": [
    "docs = [\n",
    "    \"Apple is deep red\",\n",
    "    \"Pear is light yellow\",\n",
    "    \"Watermelon is green on the outside and red on the inside\",\n",
    "]\n",
    "query = \"What is the color of watermelon?\""
   ]
  },
  {
   "cell_type": "markdown",
   "metadata": {},
   "source": [
    "# Using EasyRag"
   ]
  },
  {
   "cell_type": "code",
   "execution_count": 8,
   "metadata": {},
   "outputs": [
    {
     "ename": "RuntimeError",
     "evalue": "asyncio.run() cannot be called from a running event loop",
     "output_type": "error",
     "traceback": [
      "\u001b[31m---------------------------------------------------------------------------\u001b[39m",
      "\u001b[31mRuntimeError\u001b[39m                              Traceback (most recent call last)",
      "\u001b[36mCell\u001b[39m\u001b[36m \u001b[39m\u001b[32mIn[8]\u001b[39m\u001b[32m, line 5\u001b[39m\n\u001b[32m      1\u001b[39m easy_rag_agent = EasyRAGClass(\n\u001b[32m      2\u001b[39m     documents=docs\n\u001b[32m      3\u001b[39m )\n\u001b[32m      4\u001b[39m \u001b[38;5;28;01mwith\u001b[39;00m rc.Runner() \u001b[38;5;28;01mas\u001b[39;00m runner:\n\u001b[32m----> \u001b[39m\u001b[32m5\u001b[39m     response = \u001b[43mrunner\u001b[49m\u001b[43m.\u001b[49m\u001b[43mrun_sync\u001b[49m\u001b[43m(\u001b[49m\u001b[43measy_rag_agent\u001b[49m\u001b[43m,\u001b[49m\u001b[43m \u001b[49m\u001b[43mquery\u001b[49m\u001b[43m=\u001b[49m\u001b[43mquery\u001b[49m\u001b[43m)\u001b[49m\n\u001b[32m      7\u001b[39m \u001b[38;5;28mprint\u001b[39m(\u001b[33m\"\u001b[39m\u001b[33mresponse:\u001b[39m\u001b[33m\"\u001b[39m, response)\n",
      "\u001b[36mFile \u001b[39m\u001b[32m~\\OneDrive - UBC\\Desktop\\Railtown\\RC\\rc\\src\\requestcompletion\\run.py:139\u001b[39m, in \u001b[36mRunner.run_sync\u001b[39m\u001b[34m(self, start_node, *args, **kwargs)\u001b[39m\n\u001b[32m    132\u001b[39m \u001b[38;5;28;01mdef\u001b[39;00m\u001b[38;5;250m \u001b[39m\u001b[34mrun_sync\u001b[39m(\n\u001b[32m    133\u001b[39m     \u001b[38;5;28mself\u001b[39m,\n\u001b[32m    134\u001b[39m     start_node: Callable[_P, Node] | \u001b[38;5;28;01mNone\u001b[39;00m = \u001b[38;5;28;01mNone\u001b[39;00m,\n\u001b[32m    135\u001b[39m     *args: _P.args,\n\u001b[32m    136\u001b[39m     **kwargs: _P.kwargs,\n\u001b[32m    137\u001b[39m ):\n\u001b[32m    138\u001b[39m \u001b[38;5;250m    \u001b[39m\u001b[33;03m\"\"\"Runs the provided node synchronously.\"\"\"\u001b[39;00m\n\u001b[32m--> \u001b[39m\u001b[32m139\u001b[39m     \u001b[43masyncio\u001b[49m\u001b[43m.\u001b[49m\u001b[43mrun\u001b[49m\u001b[43m(\u001b[49m\u001b[43mcall\u001b[49m\u001b[43m(\u001b[49m\u001b[43mstart_node\u001b[49m\u001b[43m,\u001b[49m\u001b[43m \u001b[49m\u001b[43m*\u001b[49m\u001b[43margs\u001b[49m\u001b[43m,\u001b[49m\u001b[43m \u001b[49m\u001b[43m*\u001b[49m\u001b[43m*\u001b[49m\u001b[43mkwargs\u001b[49m\u001b[43m)\u001b[49m\u001b[43m)\u001b[49m\n\u001b[32m    141\u001b[39m     \u001b[38;5;28;01mreturn\u001b[39;00m \u001b[38;5;28mself\u001b[39m.rc_state.info\n",
      "\u001b[36mFile \u001b[39m\u001b[32m~\\AppData\\Roaming\\uv\\python\\cpython-3.12.10-windows-x86_64-none\\Lib\\asyncio\\runners.py:191\u001b[39m, in \u001b[36mrun\u001b[39m\u001b[34m(main, debug, loop_factory)\u001b[39m\n\u001b[32m    161\u001b[39m \u001b[38;5;250m\u001b[39m\u001b[33;03m\"\"\"Execute the coroutine and return the result.\u001b[39;00m\n\u001b[32m    162\u001b[39m \n\u001b[32m    163\u001b[39m \u001b[33;03mThis function runs the passed coroutine, taking care of\u001b[39;00m\n\u001b[32m   (...)\u001b[39m\u001b[32m    187\u001b[39m \u001b[33;03m    asyncio.run(main())\u001b[39;00m\n\u001b[32m    188\u001b[39m \u001b[33;03m\"\"\"\u001b[39;00m\n\u001b[32m    189\u001b[39m \u001b[38;5;28;01mif\u001b[39;00m events._get_running_loop() \u001b[38;5;129;01mis\u001b[39;00m \u001b[38;5;129;01mnot\u001b[39;00m \u001b[38;5;28;01mNone\u001b[39;00m:\n\u001b[32m    190\u001b[39m     \u001b[38;5;66;03m# fail fast with short traceback\u001b[39;00m\n\u001b[32m--> \u001b[39m\u001b[32m191\u001b[39m     \u001b[38;5;28;01mraise\u001b[39;00m \u001b[38;5;167;01mRuntimeError\u001b[39;00m(\n\u001b[32m    192\u001b[39m         \u001b[33m\"\u001b[39m\u001b[33masyncio.run() cannot be called from a running event loop\u001b[39m\u001b[33m\"\u001b[39m)\n\u001b[32m    194\u001b[39m \u001b[38;5;28;01mwith\u001b[39;00m Runner(debug=debug, loop_factory=loop_factory) \u001b[38;5;28;01mas\u001b[39;00m runner:\n\u001b[32m    195\u001b[39m     \u001b[38;5;28;01mreturn\u001b[39;00m runner.run(main)\n",
      "\u001b[31mRuntimeError\u001b[39m: asyncio.run() cannot be called from a running event loop"
     ]
    }
   ],
   "source": [
    "easy_rag_agent = EasyRAGClass(\n",
    "    documents=docs\n",
    ")\n",
    "with rc.Runner() as runner:\n",
    "    response = runner.run_sync(easy_rag_agent, query=query)\n",
    "\n",
    "print(\"response:\", response)"
   ]
  },
  {
   "cell_type": "code",
   "execution_count": 9,
   "metadata": {},
   "outputs": [],
   "source": [
    "def rag(query:str)-> list:\n",
    "    rag = RAG(\n",
    "        docs,\n",
    "        embed_config={\n",
    "            \"model\": \"text-embedding-3-small\",\n",
    "        },\n",
    "        store_config={},\n",
    "        chunk_config={\"chunk_size\": 100, \"chunk_overlap\": 20, \"model\": \"gpt-4o\"},\n",
    "    )\n",
    "\n",
    "    rag.embed_all()\n",
    "    result = rag.search(query, top_k=2)\n",
    "    print(query)\n",
    "    print(result)\n",
    "    return result\n",
    "\n",
    "rag_agent = rc.library.from_function(rag)"
   ]
  },
  {
   "cell_type": "code",
   "execution_count": 12,
   "metadata": {},
   "outputs": [
    {
     "name": "stderr",
     "output_type": "stream",
     "text": [
      "[+285.014s] RC          : INFO     - START CREATED rag Node\n"
     ]
    },
    {
     "name": "stdout",
     "output_type": "stream",
     "text": [
      "What is the color of an Pear?\n",
      "[SearchResult(id='-3679', score=-0.19802528759448443, metadata={'name': None, 'type': 'text', 'description': '', 'path': None, 'tags': [], 'comment': '', 'hash': '', 'duration': 0, 'raw_content': 'Apple is deep red', 'num_chunks': 1, 'embeddings': '1 vectors', 'chunk_index': 0, 'chunk': 'Apple is deep red'}), SearchResult(id='-2977', score=-0.19754090665508262, metadata={'name': None, 'type': 'text', 'description': '', 'path': None, 'tags': [], 'comment': '', 'hash': '', 'duration': 0, 'raw_content': 'Pear is light yellow', 'num_chunks': 1, 'embeddings': '1 vectors', 'chunk_index': 0, 'chunk': 'Pear is light yellow'})]\n"
     ]
    },
    {
     "name": "stderr",
     "output_type": "stream",
     "text": [
      "[+288.456s] RC          : INFO     - rag Node DONE\n"
     ]
    },
    {
     "name": "stdout",
     "output_type": "stream",
     "text": [
      "response:  SearchResult(id='-3679', score=-0.19802528759448443, metadata={'name': None, 'type': 'text', 'description': '', 'path': None, 'tags': [], 'comment': '', 'hash': '', 'duration': 0, 'raw_content': 'Apple is deep red', 'num_chunks': 1, 'embeddings': '1 vectors', 'chunk_index': 0, 'chunk': 'Apple is deep red'})\n"
     ]
    }
   ],
   "source": [
    "query = \"What is the color of an Pear?\"\n",
    "with rc.Runner() as runner:\n",
    "    response = await runner.run(rag_agent, query=query)\n",
    "\n",
    "print(\"response: \", response.answer[0])"
   ]
  },
  {
   "cell_type": "code",
   "execution_count": null,
   "metadata": {},
   "outputs": [],
   "source": []
  }
 ],
 "metadata": {
  "kernelspec": {
   "display_name": ".venv",
   "language": "python",
   "name": "python3"
  },
  "language_info": {
   "codemirror_mode": {
    "name": "ipython",
    "version": 3
   },
   "file_extension": ".py",
   "mimetype": "text/x-python",
   "name": "python",
   "nbconvert_exporter": "python",
   "pygments_lexer": "ipython3",
   "version": "3.12.10"
  }
 },
 "nbformat": 4,
 "nbformat_minor": 2
}
