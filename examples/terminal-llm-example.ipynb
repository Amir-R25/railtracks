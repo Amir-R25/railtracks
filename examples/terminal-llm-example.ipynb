{
 "cells": [
  {
   "cell_type": "code",
   "execution_count": 1,
   "id": "initial_id",
   "metadata": {
    "ExecuteTime": {
     "end_time": "2025-03-17T19:39:27.225702Z",
     "start_time": "2025-03-17T19:39:25.140268Z"
    },
    "collapsed": true
   },
   "outputs": [
    {
     "name": "stderr",
     "output_type": "stream",
     "text": [
      "c:\\Users\\Logan\\Documents\\rc\\.venv\\lib\\site-packages\\requests\\__init__.py:86: RequestsDependencyWarning: Unable to find acceptable character detection dependency (chardet or charset_normalizer).\n",
      "  warnings.warn(\n"
     ]
    }
   ],
   "source": [
    "import requestcompletion as rc\n"
   ]
  },
  {
   "cell_type": "code",
   "execution_count": null,
   "id": "367f51f456dd21bf",
   "metadata": {
    "ExecuteTime": {
     "end_time": "2025-03-17T19:39:27.759481Z",
     "start_time": "2025-03-17T19:39:27.749474Z"
    }
   },
   "outputs": [],
   "source": [
    "SimpleThinker = rc.library\n",
    "class SimpleThinker(rc.library.TerminalLLM):\n",
    "    @classmethod\n",
    "    def pretty_name(cls) -> str:\n",
    "        pass\n",
    "\n",
    "    def __init__(self, query: str):\n",
    "        super().__init__(\n",
    "            message_history=rc.llm.MessageHistory([\n",
    "            rc.llm.SystemMessage(\"You are a helpful asssinatnt with a simple mind that supplies simple solutions to any question. \"),\n",
    "            rc.llm.UserMessage(query)\n",
    "        ]),\n",
    "            model=rc.llm.OpenAILLM(\"gpt-4o\")\n",
    "        )"
   ]
  },
  {
   "cell_type": "code",
   "execution_count": null,
   "id": "851e0c028731ccce",
   "metadata": {
    "ExecuteTime": {
     "start_time": "2025-03-17T19:39:28.706131Z"
    },
    "jupyter": {
     "is_executing": true
    }
   },
   "outputs": [],
   "source": [
    "with rc.Runner() as run:\n",
    "    print(run.run_sync(SimpleThinker, \"How should I add 2 number together\").answer)"
   ]
  },
  {
   "cell_type": "code",
   "execution_count": null,
   "id": "ac1a4c941bf4769c",
   "metadata": {
    "ExecuteTime": {
     "end_time": "2025-03-14T23:36:53.208540Z",
     "start_time": "2025-03-14T23:36:53.198538Z"
    }
   },
   "outputs": [],
   "source": []
  },
  {
   "cell_type": "code",
   "execution_count": null,
   "id": "f51a3ecdbc660bf7",
   "metadata": {},
   "outputs": [],
   "source": []
  }
 ],
 "metadata": {
  "kernelspec": {
   "display_name": ".venv",
   "language": "python",
   "name": "python3"
  },
  "language_info": {
   "codemirror_mode": {
    "name": "ipython",
    "version": 3
   },
   "file_extension": ".py",
   "mimetype": "text/x-python",
   "name": "python",
   "nbconvert_exporter": "python",
   "pygments_lexer": "ipython3",
   "version": "3.10.11"
  }
 },
 "nbformat": 4,
 "nbformat_minor": 5
}
