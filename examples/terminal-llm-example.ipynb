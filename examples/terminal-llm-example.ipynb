{
 "cells": [
  {
   "cell_type": "code",
   "id": "initial_id",
   "metadata": {
    "collapsed": true,
    "ExecuteTime": {
     "end_time": "2025-03-17T19:39:27.225702Z",
     "start_time": "2025-03-17T19:39:25.140268Z"
    }
   },
   "source": "import requestcompletion as rc\n",
   "outputs": [
    {
     "name": "stderr",
     "output_type": "stream",
     "text": [
      "C:\\Users\\Logan\\Documents\\rc\\.venv\\lib\\site-packages\\requests\\__init__.py:86: RequestsDependencyWarning: Unable to find acceptable character detection dependency (chardet or charset_normalizer).\n",
      "  warnings.warn(\n"
     ]
    }
   ],
   "execution_count": 1
  },
  {
   "metadata": {
    "ExecuteTime": {
     "end_time": "2025-03-17T19:39:27.759481Z",
     "start_time": "2025-03-17T19:39:27.749474Z"
    }
   },
   "cell_type": "code",
   "source": [
    "class SimpleThinker(rc.library.TerminalLLM):\n",
    "    @classmethod\n",
    "    def pretty_name(cls) -> str:\n",
    "        pass\n",
    "\n",
    "    def __init__(self, query: str):\n",
    "        super().__init__(\n",
    "            message_history=rc.llm.MessageHistory([\n",
    "            rc.llm.SystemMessage(\"You are a helpful asssinatnt with a simple mind that supplies simple solutions to any question. \"),\n",
    "            rc.llm.UserMessage(query)\n",
    "        ]),\n",
    "            model=rc.llm.OpenAILLM(\"gpt-4o\")\n",
    "        )"
   ],
   "id": "367f51f456dd21bf",
   "outputs": [],
   "execution_count": 2
  },
  {
   "metadata": {
    "jupyter": {
     "is_executing": true
    },
    "ExecuteTime": {
     "start_time": "2025-03-17T19:39:28.706131Z"
    }
   },
   "cell_type": "code",
   "source": [
    "with rc.Runner() as run:\n",
    "    print(run.run_sync(SimpleThinker, \"How should I add 2 number together\").answer)"
   ],
   "id": "851e0c028731ccce",
   "outputs": [],
   "execution_count": null
  },
  {
   "metadata": {
    "ExecuteTime": {
     "end_time": "2025-03-14T23:36:53.208540Z",
     "start_time": "2025-03-14T23:36:53.198538Z"
    }
   },
   "cell_type": "code",
   "source": "",
   "id": "ac1a4c941bf4769c",
   "outputs": [],
   "execution_count": null
  },
  {
   "metadata": {},
   "cell_type": "code",
   "outputs": [],
   "execution_count": null,
   "source": "",
   "id": "f51a3ecdbc660bf7"
  }
 ],
 "metadata": {
  "kernelspec": {
   "display_name": "Python 3",
   "language": "python",
   "name": "python3"
  },
  "language_info": {
   "codemirror_mode": {
    "name": "ipython",
    "version": 2
   },
   "file_extension": ".py",
   "mimetype": "text/x-python",
   "name": "python",
   "nbconvert_exporter": "python",
   "pygments_lexer": "ipython2",
   "version": "2.7.6"
  }
 },
 "nbformat": 4,
 "nbformat_minor": 5
}
