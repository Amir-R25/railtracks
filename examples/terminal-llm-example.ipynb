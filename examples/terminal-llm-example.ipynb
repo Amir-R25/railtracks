{
 "cells": [
  {
   "cell_type": "code",
   "execution_count": 1,
   "id": "initial_id",
   "metadata": {
    "ExecuteTime": {
     "end_time": "2025-03-17T19:39:27.225702Z",
     "start_time": "2025-03-17T19:39:25.140268Z"
    },
    "collapsed": true
   },
   "outputs": [
    {
     "name": "stderr",
     "output_type": "stream",
     "text": [
      "c:\\Users\\Logan\\Documents\\rc\\.venv\\lib\\site-packages\\requests\\__init__.py:86: RequestsDependencyWarning: Unable to find acceptable character detection dependency (chardet or charset_normalizer).\n",
      "  warnings.warn(\n"
     ]
    }
   ],
   "source": [
    "import requestcompletion as rc\n"
   ]
  },
  {
   "cell_type": "code",
   "execution_count": 2,
   "id": "367f51f456dd21bf",
   "metadata": {
    "ExecuteTime": {
     "end_time": "2025-03-17T19:39:27.759481Z",
     "start_time": "2025-03-17T19:39:27.749474Z"
    }
   },
   "outputs": [],
   "source": [
    "system_message = \"You are a helpful assistant with a simple mind that supplies simple solutions to any question.\"\n",
    "SimpleThinker = rc.library.terminal_llm(\"SimpleThinker\", rc.llm.SystemMessage(system_message), rc.llm.OpenAILLM(\"gpt-4o\"))\n"
   ]
  },
  {
   "cell_type": "code",
   "execution_count": 6,
   "id": "851e0c028731ccce",
   "metadata": {
    "ExecuteTime": {
     "start_time": "2025-03-17T19:39:28.706131Z"
    },
    "jupyter": {
     "is_executing": true
    }
   },
   "outputs": [
    {
     "name": "stdout",
     "output_type": "stream",
     "text": [
      "To add two numbers together, simply combine their values. For example, if you have the numbers 3 and 5, you add them like this:\n",
      "\n",
      "3 + 5 = 8\n",
      "\n",
      "So, the sum of 3 and 5 is 8. Just do the same with any two numbers you have!\n"
     ]
    }
   ],
   "source": [
    "with rc.Runner() as run:\n",
    "    result = await run.run(SimpleThinker, rc.llm.MessageHistory([rc.llm.UserMessage(\"How should I add 2 number together\")]))\n",
    "\n",
    "print(result.answer)"
   ]
  },
  {
   "cell_type": "code",
   "execution_count": null,
   "id": "ac1a4c941bf4769c",
   "metadata": {
    "ExecuteTime": {
     "end_time": "2025-03-14T23:36:53.208540Z",
     "start_time": "2025-03-14T23:36:53.198538Z"
    }
   },
   "outputs": [],
   "source": []
  },
  {
   "cell_type": "code",
   "execution_count": null,
   "id": "f51a3ecdbc660bf7",
   "metadata": {},
   "outputs": [],
   "source": []
  }
 ],
 "metadata": {
  "kernelspec": {
   "display_name": ".venv",
   "language": "python",
   "name": "python3"
  },
  "language_info": {
   "codemirror_mode": {
    "name": "ipython",
    "version": 3
   },
   "file_extension": ".py",
   "mimetype": "text/x-python",
   "name": "python",
   "nbconvert_exporter": "python",
   "pygments_lexer": "ipython3",
   "version": "3.10.11"
  }
 },
 "nbformat": 4,
 "nbformat_minor": 5
}
