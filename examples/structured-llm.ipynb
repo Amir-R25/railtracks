{
 "cells": [
  {
   "cell_type": "code",
   "id": "initial_id",
   "metadata": {
    "collapsed": true,
    "ExecuteTime": {
     "end_time": "2025-02-10T20:35:46.297401Z",
     "start_time": "2025-02-10T20:35:44.265939Z"
    }
   },
   "source": "import requestcompletion as rc",
   "outputs": [],
   "execution_count": 2
  },
  {
   "metadata": {},
   "cell_type": "code",
   "outputs": [],
   "execution_count": null,
   "source": [
    "class StatementAnalyzer(rc.nodes.library.StructuredLLM):\n",
    "    @classmethod\n",
    "    def pretty_name(cls) -> str:\n",
    "        pass"
   ],
   "id": "d3fde2cab70fbd26"
  }
 ],
 "metadata": {
  "kernelspec": {
   "display_name": "Python 3",
   "language": "python",
   "name": "python3"
  },
  "language_info": {
   "codemirror_mode": {
    "name": "ipython",
    "version": 2
   },
   "file_extension": ".py",
   "mimetype": "text/x-python",
   "name": "python",
   "nbconvert_exporter": "python",
   "pygments_lexer": "ipython2",
   "version": "2.7.6"
  }
 },
 "nbformat": 4,
 "nbformat_minor": 5
}
