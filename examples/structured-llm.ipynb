{
 "cells": [
  {
   "cell_type": "code",
   "execution_count": 5,
   "id": "initial_id",
   "metadata": {
    "ExecuteTime": {
     "end_time": "2025-02-10T20:42:53.462532Z",
     "start_time": "2025-02-10T20:42:53.446900Z"
    },
    "collapsed": true
   },
   "outputs": [],
   "source": [
    "from typing import Type\n",
    "\n",
    "import requestcompletion as rc\n",
    "from pydantic import BaseModel, Field\n"
   ]
  },
  {
   "cell_type": "code",
   "execution_count": null,
   "id": "d3fde2cab70fbd26",
   "metadata": {
    "ExecuteTime": {
     "end_time": "2025-02-10T20:44:55.318391Z",
     "start_time": "2025-02-10T20:44:55.302762Z"
    }
   },
   "outputs": [],
   "source": [
    "class ResponseModel(BaseModel):\n",
    "    quality: float = Field(description=\"The quality of the statement on a scale of 0 to 1\")\n",
    "    completeness: float = Field(description=\"The completeness of the statement on a scale of 0 to 1\")\n",
    "    understanding: str = Field (description=\"Your understanding of the statement\")\n",
    "    suggestions: str = Field(description=\"Suggestions for improvement\")\n",
    "    overall_score: float = Field(description=\"The overall score of the statement on a scale of 0 to 1\")\n",
    "\n",
    "    \n",
    "\n",
    "class StatementAnalyzer(rc.nodes.library.StructuredLLM[ResponseModel]):\n",
    "    @classmethod\n",
    "    def pretty_name(cls) -> str:\n",
    "        return \"Statement Analyzer\"\n",
    "    \n",
    "    @classmethod\n",
    "    def output_model(cls):\n",
    "        return ResponseModel\n",
    "    \n",
    "    system_prompt = \"\"\"You are a master of the english langauge desigend to analyze the success of a statement given to you. You may be provided with context or you may be provided none. Do what you can with the information provided.\"\"\"\n",
    "    \n",
    "    model = lambda x: rc.llm.models.OpenAILLM(\"gpt-4o\")\n",
    "\n",
    "    def __init__(self, message_history: rc.llm.MessageHistory):\n",
    "        message_history.insert(0, rc.llm.SystemMessage(self.system_prompt))\n",
    "        super().__init__(\n",
    "            message_history=message_history,\n",
    "            model= self.model(),\n",
    "        )\n",
    "        \n",
    "    "
   ]
  },
  {
   "cell_type": "code",
   "execution_count": 15,
   "id": "8710f222d7658bd2",
   "metadata": {
    "ExecuteTime": {
     "end_time": "2025-02-10T20:46:06.566565Z",
     "start_time": "2025-02-10T20:46:04.999538Z"
    }
   },
   "outputs": [],
   "source": [
    "prompt = \"Analyze the following statement \\n 'The quick brown fox jumps over the lazy dog'. \\n It should be consice and clear with no ambiguity.\"\n",
    "\n",
    "sa = StatementAnalyzer(message_history=rc.llm.MessageHistory([rc.llm.UserMessage(prompt)]))\n",
    "\n",
    "result = rc.run.run(sa)\n",
    "\n",
    "obj = result.answer"
   ]
  },
  {
   "cell_type": "code",
   "execution_count": 16,
   "id": "a89ed4f68115ae2f",
   "metadata": {
    "ExecuteTime": {
     "end_time": "2025-02-10T20:46:07.103616Z",
     "start_time": "2025-02-10T20:46:07.072074Z"
    }
   },
   "outputs": [
    {
     "name": "stdout",
     "output_type": "stream",
     "text": [
      "True\n",
      "{\n",
      "  \"quality\": 0.9,\n",
      "  \"completeness\": 1.0,\n",
      "  \"understanding\": \"The statement is a well-known pangram in the English language, meaning it contains every letter of the alphabet at least once. It is concise and clear, with no ambiguity.\",\n",
      "  \"suggestions\": \"The statement is already concise and clear. No improvements are necessary.\",\n",
      "  \"overall_score\": 0.95\n",
      "}\n"
     ]
    }
   ],
   "source": [
    "\n",
    "print(isinstance(obj, ResponseModel))\n",
    "print(obj.model_dump_json(indent=2))"
   ]
  },
  {
   "cell_type": "code",
   "execution_count": null,
   "id": "b67945e4505bda3a",
   "metadata": {},
   "outputs": [],
   "source": []
  }
 ],
 "metadata": {
  "kernelspec": {
   "display_name": "Python 3",
   "language": "python",
   "name": "python3"
  },
  "language_info": {
   "codemirror_mode": {
    "name": "ipython",
    "version": 2
   },
   "file_extension": ".py",
   "mimetype": "text/x-python",
   "name": "python",
   "nbconvert_exporter": "python",
   "pygments_lexer": "ipython2",
   "version": "2.7.6"
  }
 },
 "nbformat": 4,
 "nbformat_minor": 5
}
