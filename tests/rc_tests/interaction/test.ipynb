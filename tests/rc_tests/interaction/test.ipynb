{
 "cells": [
  {
   "cell_type": "code",
   "execution_count": 1,
   "metadata": {},
   "outputs": [],
   "source": [
    "import sys\n",
    "sys.path.append('../../../')"
   ]
  },
  {
   "cell_type": "code",
   "execution_count": 2,
   "metadata": {},
   "outputs": [],
   "source": [
    "from copy import deepcopy\n",
    "import src.requestcompletion as rc\n",
    "from tests.rc_tests.fixtures.nodes import ActionType, CapitalizeText, FatalErrorNode, UnknownErrorNode, TimeoutNode\n",
    "import warnings"
   ]
  },
  {
   "cell_type": "code",
   "execution_count": 8,
   "metadata": {},
   "outputs": [],
   "source": [
    "model = rc.llm.OpenAILLM(\"gpt-4o\")\n",
    "\n",
    "system_rng = rc.llm.SystemMessage(\"You are a random integer generator that will return a random list of integers between 0 and 100. Do not return more than 10 integers.\")\n",
    "system_rng_operation = rc.llm.SystemMessage(\"You are a random mathematical operation calculator that will apply a random operation to the list of integers that will be provided by the user and return the result. The answer should be only a single integer.\")\n",
    "system_math_genius = rc.llm.SystemMessage(\"You are a math genius that will get a list of integers(loi) and another interger(x), your task is to predict what operation must be appled to the list of integers to get the result of x.\")\n",
    "\n",
    "RNGNode = rc.library.terminal_llm(\"COT\", system_message=system_rng, model=model)\n",
    "RNGOperationNode = rc.library.terminal_llm(\"Answerer\", system_message=system_rng_operation, model=model)\n",
    "class MathDetectiveNode(rc.library.TerminalLLM):\n",
    "    def __init__(self, message_history: rc.llm.MessageHistory, llm_model: rc.llm.ModelBase, system_message: rc.llm.SystemMessage = system_math_genius):\n",
    "        if len([x for x in message_history if x.role == \"system\"]) > 0:\n",
    "            warnings.warn(\"System message already exists in message history. We will replace it.\")\n",
    "            message_history = [x for x in message_history if x.role != \"system\"]\n",
    "            message_history.insert(0, system_message)\n",
    "        else:\n",
    "            message_history.insert(0, system_message)\n",
    "        \n",
    "        super().__init__(message_history=message_history, model=llm_model)\n",
    "    \n",
    "    def pretty_name(self) -> str:\n",
    "        return \"Math Detective Node\"\n",
    "\n",
    "\n",
    "async def MathGame(message_history: rc.llm.MessageHistory):\n",
    "    \n",
    "    # Use the working copy for all subsequent calls\n",
    "    random_num_list_response = await rc.call(RNGNode, message_history=message_history)\n",
    "    message_history.append(rc.llm.AssistantMessage(\"The list of random integer: \" + str(random_num_list_response)))\n",
    "\n",
    "    operation_response = await rc.call(RNGOperationNode, message_history=message_history)\n",
    "    message_history.append(rc.llm.AssistantMessage(\"The result int (x) = \" + str(operation_response)))\n",
    "\n",
    "\n",
    "    response = await rc.call(MathDetectiveNode, message_history=message_history, llm_model=model)\n",
    "\n",
    "    return response, message_history\n",
    "\n",
    "    \n",
    "MathGameNode = rc.library.from_function(MathGame)   # returns a node that can be run\n"
   ]
  },
  {
   "cell_type": "code",
   "execution_count": 9,
   "metadata": {},
   "outputs": [
    {
     "data": {
      "text/plain": [
       "[user: Start the game]"
      ]
     },
     "execution_count": 9,
     "metadata": {},
     "output_type": "execute_result"
    }
   ],
   "source": [
    "original_message_history = rc.llm.MessageHistory([rc.llm.UserMessage(\"Start the game\")])\n",
    "original_message_history"
   ]
  },
  {
   "cell_type": "code",
   "execution_count": 10,
   "metadata": {},
   "outputs": [
    {
     "name": "stdout",
     "output_type": "stream",
     "text": [
      "1: 1906914235616\n",
      "1: 1906920515568\n",
      "1: 1906920513808\n"
     ]
    },
    {
     "ename": "TypeError",
     "evalue": "cannot unpack non-iterable ExecutionInfo object",
     "output_type": "error",
     "traceback": [
      "\u001b[1;31m---------------------------------------------------------------------------\u001b[0m",
      "\u001b[1;31mTypeError\u001b[0m                                 Traceback (most recent call last)",
      "Cell \u001b[1;32mIn[10], line 3\u001b[0m\n\u001b[0;32m      1\u001b[0m \u001b[38;5;66;03m# Run the call and store the result\u001b[39;00m\n\u001b[0;32m      2\u001b[0m \u001b[38;5;28;01mwith\u001b[39;00m rc\u001b[38;5;241m.\u001b[39mRunner() \u001b[38;5;28;01mas\u001b[39;00m runner:\n\u001b[1;32m----> 3\u001b[0m     result, hist \u001b[38;5;241m=\u001b[39m \u001b[38;5;28;01mawait\u001b[39;00m runner\u001b[38;5;241m.\u001b[39mrun(MathGameNode, message_history\u001b[38;5;241m=\u001b[39moriginal_message_history)\n\u001b[0;32m      4\u001b[0m result\u001b[38;5;241m.\u001b[39manswer\n",
      "\u001b[1;31mTypeError\u001b[0m: cannot unpack non-iterable ExecutionInfo object"
     ]
    }
   ],
   "source": [
    "# Run the call and store the result\n",
    "with rc.Runner() as runner:\n",
    "    result, hist = await runner.run(MathGameNode, message_history=original_message_history)\n",
    "result.answer"
   ]
  },
  {
   "cell_type": "code",
   "execution_count": 6,
   "metadata": {},
   "outputs": [
    {
     "name": "stdout",
     "output_type": "stream",
     "text": [
      "user: Start the game\n"
     ]
    }
   ],
   "source": [
    "print(original_message_history)"
   ]
  },
  {
   "cell_type": "code",
   "execution_count": null,
   "metadata": {},
   "outputs": [],
   "source": []
  }
 ],
 "metadata": {
  "kernelspec": {
   "display_name": ".venv",
   "language": "python",
   "name": "python3"
  },
  "language_info": {
   "codemirror_mode": {
    "name": "ipython",
    "version": 3
   },
   "file_extension": ".py",
   "mimetype": "text/x-python",
   "name": "python",
   "nbconvert_exporter": "python",
   "pygments_lexer": "ipython3",
   "version": "3.10.11"
  }
 },
 "nbformat": 4,
 "nbformat_minor": 2
}
