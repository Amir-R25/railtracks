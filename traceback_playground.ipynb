{
 "cells": [
  {
   "metadata": {
    "ExecuteTime": {
     "end_time": "2025-03-31T00:03:47.846308Z",
     "start_time": "2025-03-31T00:03:45.139256Z"
    }
   },
   "cell_type": "code",
   "source": "import requestcompletion as rc",
   "id": "e50f6d4bd60252d7",
   "outputs": [
    {
     "name": "stderr",
     "output_type": "stream",
     "text": [
      "C:\\Users\\Logan\\Documents\\rc\\.venv\\lib\\site-packages\\requests\\__init__.py:86: RequestsDependencyWarning: Unable to find acceptable character detection dependency (chardet or charset_normalizer).\n",
      "  warnings.warn(\n"
     ]
    }
   ],
   "execution_count": 1
  },
  {
   "metadata": {
    "ExecuteTime": {
     "end_time": "2025-03-31T01:48:14.828496Z",
     "start_time": "2025-03-31T01:48:14.635294Z"
    }
   },
   "cell_type": "code",
   "source": [
    "async def throw_exception():\n",
    "    err = ValueError(\"Something went wrong!\")\n",
    "    err.add_note(\"This is a note\")\n",
    "    raise err\n",
    "\n",
    "ThrowException = rc.library.from_function(throw_exception)\n",
    "\n",
    "\n",
    "with rc.Runner() as run:\n",
    "    result = await run.run(ThrowException)\n",
    "    \n"
   ],
   "id": "114a1b30f3788309",
   "outputs": [
    {
     "name": "stderr",
     "output_type": "stream",
     "text": [
      "C:\\Users\\Logan\\Documents\\rc\\.venv\\lib\\site-packages\\requestcompletion\\nodes\\library\\function.py:65: UserWarning: Error invoking function throw_exception\n",
      "ProvidedArgs: ()\n",
      "Provided kwargs:\n",
      "{}.\n",
      ": 'ValueError' object has no attribute 'add_note'\n",
      "  warnings.warn(\n",
      "Error in request START: 'ValueError' object has no attribute 'add_note'\n",
      "Traceback (most recent call last):\n",
      "  File \"C:\\Users\\Logan\\Documents\\rc\\.venv\\lib\\site-packages\\requestcompletion\\state\\execute.py\", line 277, in _run_request\n",
      "    result = await self._run_node(node)\n",
      "  File \"C:\\Users\\Logan\\Documents\\rc\\.venv\\lib\\site-packages\\requestcompletion\\state\\execute.py\", line 139, in _run_node\n",
      "    return await node.invoke()\n",
      "  File \"C:\\Users\\Logan\\Documents\\rc\\.venv\\lib\\site-packages\\requestcompletion\\nodes\\library\\function.py\", line 68, in invoke\n",
      "    raise e\n",
      "  File \"C:\\Users\\Logan\\Documents\\rc\\.venv\\lib\\site-packages\\requestcompletion\\nodes\\library\\function.py\", line 59, in invoke\n",
      "    result = await func(*self.args, **converted_kwargs)\n",
      "  File \"C:\\Users\\Logan\\AppData\\Local\\Temp\\ipykernel_38616\\4001715503.py\", line 3, in throw_exception\n",
      "    err.add_note(\"This is a note\")\n",
      "AttributeError: 'ValueError' object has no attribute 'add_note'\n"
     ]
    },
    {
     "ename": "AttributeError",
     "evalue": "'ValueError' object has no attribute 'add_note'",
     "output_type": "error",
     "traceback": [
      "\u001B[1;31m---------------------------------------------------------------------------\u001B[0m",
      "\u001B[1;31mAttributeError\u001B[0m                            Traceback (most recent call last)",
      "Cell \u001B[1;32mIn[5], line 10\u001B[0m\n\u001B[0;32m      6\u001B[0m ThrowException \u001B[38;5;241m=\u001B[39m rc\u001B[38;5;241m.\u001B[39mlibrary\u001B[38;5;241m.\u001B[39mfrom_function(throw_exception)\n\u001B[0;32m      9\u001B[0m \u001B[38;5;28;01mwith\u001B[39;00m rc\u001B[38;5;241m.\u001B[39mRunner() \u001B[38;5;28;01mas\u001B[39;00m run:\n\u001B[1;32m---> 10\u001B[0m     result \u001B[38;5;241m=\u001B[39m \u001B[38;5;28;01mawait\u001B[39;00m run\u001B[38;5;241m.\u001B[39mrun(ThrowException)\n",
      "File \u001B[1;32m~\\Documents\\rc\\.venv\\lib\\site-packages\\requestcompletion\\run.py:107\u001B[0m, in \u001B[0;36mRunner.run\u001B[1;34m(self, start_node, *args, **kwargs)\u001B[0m\n\u001B[0;32m    105\u001B[0m     \u001B[38;5;28;01mraise\u001B[39;00m \u001B[38;5;167;01mRuntimeError\u001B[39;00m(\u001B[38;5;124m\"\u001B[39m\u001B[38;5;124mWe currently do not support running without a start node.\u001B[39m\u001B[38;5;124m\"\u001B[39m)\n\u001B[0;32m    106\u001B[0m \u001B[38;5;28;01mtry\u001B[39;00m:\n\u001B[1;32m--> 107\u001B[0m     \u001B[38;5;28;01mawait\u001B[39;00m \u001B[38;5;28mself\u001B[39m\u001B[38;5;241m.\u001B[39mrc_state\u001B[38;5;241m.\u001B[39mexecute(node_id)\n\u001B[0;32m    108\u001B[0m \u001B[38;5;28;01mfinally\u001B[39;00m:\n\u001B[0;32m    109\u001B[0m     \u001B[38;5;66;03m# The data streamer is a running on a separate thread\u001B[39;00m\n\u001B[0;32m    110\u001B[0m     threading\u001B[38;5;241m.\u001B[39mThread(\u001B[38;5;28mself\u001B[39m\u001B[38;5;241m.\u001B[39m_data_streamer\u001B[38;5;241m.\u001B[39mstop(\u001B[38;5;28mself\u001B[39m\u001B[38;5;241m.\u001B[39mrc_state\u001B[38;5;241m.\u001B[39mexecutor_config\u001B[38;5;241m.\u001B[39mforce_close_streams))\u001B[38;5;241m.\u001B[39mstart()\n",
      "File \u001B[1;32m~\\Documents\\rc\\.venv\\lib\\site-packages\\requestcompletion\\state\\execute.py:115\u001B[0m, in \u001B[0;36mRCState.execute\u001B[1;34m(self, request_id)\u001B[0m\n\u001B[0;32m    111\u001B[0m \u001B[38;5;66;03m# TODO: come up with a better algorithm for finding the start of execution.\u001B[39;00m\n\u001B[0;32m    113\u001B[0m \u001B[38;5;28;01mtry\u001B[39;00m:\n\u001B[1;32m--> 115\u001B[0m     output \u001B[38;5;241m=\u001B[39m \u001B[38;5;28;01mawait\u001B[39;00m asyncio\u001B[38;5;241m.\u001B[39mwait_for(\u001B[38;5;28mself\u001B[39m\u001B[38;5;241m.\u001B[39m_run_request(request_id), timeout\u001B[38;5;241m=\u001B[39m\u001B[38;5;28mself\u001B[39m\u001B[38;5;241m.\u001B[39mexecutor_config\u001B[38;5;241m.\u001B[39mtimeout)\n\u001B[0;32m    116\u001B[0m     \u001B[38;5;66;03m# Note that since this is the insertion requests, its output is our answer.\u001B[39;00m\n\u001B[0;32m    117\u001B[0m     \u001B[38;5;28mself\u001B[39m\u001B[38;5;241m.\u001B[39m_answer \u001B[38;5;241m=\u001B[39m output\n",
      "File \u001B[1;32m~\\AppData\\Local\\Programs\\Python\\Python310\\lib\\asyncio\\tasks.py:445\u001B[0m, in \u001B[0;36mwait_for\u001B[1;34m(fut, timeout)\u001B[0m\n\u001B[0;32m    442\u001B[0m         \u001B[38;5;28;01mraise\u001B[39;00m\n\u001B[0;32m    444\u001B[0m \u001B[38;5;28;01mif\u001B[39;00m fut\u001B[38;5;241m.\u001B[39mdone():\n\u001B[1;32m--> 445\u001B[0m     \u001B[38;5;28;01mreturn\u001B[39;00m \u001B[43mfut\u001B[49m\u001B[38;5;241;43m.\u001B[39;49m\u001B[43mresult\u001B[49m\u001B[43m(\u001B[49m\u001B[43m)\u001B[49m\n\u001B[0;32m    446\u001B[0m \u001B[38;5;28;01melse\u001B[39;00m:\n\u001B[0;32m    447\u001B[0m     fut\u001B[38;5;241m.\u001B[39mremove_done_callback(cb)\n",
      "File \u001B[1;32m~\\Documents\\rc\\.venv\\lib\\site-packages\\requestcompletion\\state\\execute.py:289\u001B[0m, in \u001B[0;36mRCState._run_request\u001B[1;34m(self, request_id)\u001B[0m\n\u001B[0;32m    286\u001B[0m \u001B[38;5;28mself\u001B[39m\u001B[38;5;241m.\u001B[39m_node_heap\u001B[38;5;241m.\u001B[39mupdate(node, stamp)\n\u001B[0;32m    288\u001B[0m \u001B[38;5;28;01mif\u001B[39;00m \u001B[38;5;28misinstance\u001B[39m(result, Failure):\n\u001B[1;32m--> 289\u001B[0m     \u001B[38;5;28;01mraise\u001B[39;00m result\u001B[38;5;241m.\u001B[39mexception\n\u001B[0;32m    291\u001B[0m \u001B[38;5;28;01mreturn\u001B[39;00m result\n",
      "File \u001B[1;32m~\\Documents\\rc\\.venv\\lib\\site-packages\\requestcompletion\\state\\execute.py:277\u001B[0m, in \u001B[0;36mRCState._run_request\u001B[1;34m(self, request_id)\u001B[0m\n\u001B[0;32m    275\u001B[0m node \u001B[38;5;241m=\u001B[39m \u001B[38;5;28mself\u001B[39m\u001B[38;5;241m.\u001B[39m_node_heap[child_node_id]\u001B[38;5;241m.\u001B[39mnode\n\u001B[0;32m    276\u001B[0m \u001B[38;5;28;01mtry\u001B[39;00m:\n\u001B[1;32m--> 277\u001B[0m     result \u001B[38;5;241m=\u001B[39m \u001B[38;5;28;01mawait\u001B[39;00m \u001B[38;5;28mself\u001B[39m\u001B[38;5;241m.\u001B[39m_run_node(node)\n\u001B[0;32m    278\u001B[0m \u001B[38;5;28;01mexcept\u001B[39;00m \u001B[38;5;167;01mException\u001B[39;00m \u001B[38;5;28;01mas\u001B[39;00m e:\n\u001B[0;32m    279\u001B[0m     handled_error \u001B[38;5;241m=\u001B[39m \u001B[38;5;28mself\u001B[39m\u001B[38;5;241m.\u001B[39m_handle_failed_request(request_id, e)\n",
      "File \u001B[1;32m~\\Documents\\rc\\.venv\\lib\\site-packages\\requestcompletion\\state\\execute.py:139\u001B[0m, in \u001B[0;36mRCState._run_node\u001B[1;34m(self, node)\u001B[0m\n\u001B[0;32m    133\u001B[0m \u001B[38;5;28;01masync\u001B[39;00m \u001B[38;5;28;01mdef\u001B[39;00m\u001B[38;5;250m \u001B[39m\u001B[38;5;21m_run_node\u001B[39m(\n\u001B[0;32m    134\u001B[0m     \u001B[38;5;28mself\u001B[39m,\n\u001B[0;32m    135\u001B[0m     node: Node,\n\u001B[0;32m    136\u001B[0m ):\n\u001B[0;32m    137\u001B[0m \u001B[38;5;250m    \u001B[39m\u001B[38;5;124;03m\"\"\"Runs the provided node and returns the output of the node.\"\"\"\u001B[39;00m\n\u001B[1;32m--> 139\u001B[0m     \u001B[38;5;28;01mreturn\u001B[39;00m \u001B[38;5;28;01mawait\u001B[39;00m node\u001B[38;5;241m.\u001B[39minvoke()\n",
      "File \u001B[1;32m~\\Documents\\rc\\.venv\\lib\\site-packages\\requestcompletion\\nodes\\library\\function.py:68\u001B[0m, in \u001B[0;36mfrom_function.<locals>.DynamicFunctionNode.invoke\u001B[1;34m(self)\u001B[0m\n\u001B[0;32m     64\u001B[0m \u001B[38;5;28;01mexcept\u001B[39;00m \u001B[38;5;167;01mException\u001B[39;00m \u001B[38;5;28;01mas\u001B[39;00m e:\n\u001B[0;32m     65\u001B[0m     warnings\u001B[38;5;241m.\u001B[39mwarn(\n\u001B[0;32m     66\u001B[0m         \u001B[38;5;124mf\u001B[39m\u001B[38;5;124m\"\u001B[39m\u001B[38;5;124mError invoking function \u001B[39m\u001B[38;5;132;01m{\u001B[39;00mfunc\u001B[38;5;241m.\u001B[39m\u001B[38;5;18m__name__\u001B[39m\u001B[38;5;132;01m}\u001B[39;00m\u001B[38;5;130;01m\\n\u001B[39;00m\u001B[38;5;124mProvidedArgs: \u001B[39m\u001B[38;5;132;01m{\u001B[39;00m\u001B[38;5;28mself\u001B[39m\u001B[38;5;241m.\u001B[39margs\u001B[38;5;132;01m}\u001B[39;00m\u001B[38;5;130;01m\\n\u001B[39;00m\u001B[38;5;124mProvided kwargs:\u001B[39m\u001B[38;5;130;01m\\n\u001B[39;00m\u001B[38;5;132;01m{\u001B[39;00m\u001B[38;5;28mself\u001B[39m\u001B[38;5;241m.\u001B[39mkwargs\u001B[38;5;132;01m}\u001B[39;00m\u001B[38;5;124m.\u001B[39m\u001B[38;5;130;01m\\n\u001B[39;00m\u001B[38;5;124m: \u001B[39m\u001B[38;5;132;01m{\u001B[39;00m\u001B[38;5;28mstr\u001B[39m(e)\u001B[38;5;132;01m}\u001B[39;00m\u001B[38;5;124m\"\u001B[39m\n\u001B[0;32m     67\u001B[0m     )\n\u001B[1;32m---> 68\u001B[0m     \u001B[38;5;28;01mraise\u001B[39;00m e\n",
      "File \u001B[1;32m~\\Documents\\rc\\.venv\\lib\\site-packages\\requestcompletion\\nodes\\library\\function.py:59\u001B[0m, in \u001B[0;36mfrom_function.<locals>.DynamicFunctionNode.invoke\u001B[1;34m(self)\u001B[0m\n\u001B[0;32m     57\u001B[0m \u001B[38;5;66;03m# we want to have different behavior if the function is a coroutine or not\u001B[39;00m\n\u001B[0;32m     58\u001B[0m \u001B[38;5;28;01mif\u001B[39;00m inspect\u001B[38;5;241m.\u001B[39miscoroutinefunction(func):\n\u001B[1;32m---> 59\u001B[0m     result \u001B[38;5;241m=\u001B[39m \u001B[38;5;28;01mawait\u001B[39;00m func(\u001B[38;5;241m*\u001B[39m\u001B[38;5;28mself\u001B[39m\u001B[38;5;241m.\u001B[39margs, \u001B[38;5;241m*\u001B[39m\u001B[38;5;241m*\u001B[39mconverted_kwargs)\n\u001B[0;32m     60\u001B[0m \u001B[38;5;28;01melse\u001B[39;00m:\n\u001B[0;32m     61\u001B[0m     result \u001B[38;5;241m=\u001B[39m \u001B[38;5;28;01mawait\u001B[39;00m asyncio\u001B[38;5;241m.\u001B[39mto_thread(func, \u001B[38;5;241m*\u001B[39m\u001B[38;5;28mself\u001B[39m\u001B[38;5;241m.\u001B[39margs, \u001B[38;5;241m*\u001B[39m\u001B[38;5;241m*\u001B[39mconverted_kwargs)\n",
      "Cell \u001B[1;32mIn[5], line 3\u001B[0m, in \u001B[0;36mthrow_exception\u001B[1;34m()\u001B[0m\n\u001B[0;32m      1\u001B[0m \u001B[38;5;28;01masync\u001B[39;00m \u001B[38;5;28;01mdef\u001B[39;00m\u001B[38;5;250m \u001B[39m\u001B[38;5;21mthrow_exception\u001B[39m():\n\u001B[0;32m      2\u001B[0m     err \u001B[38;5;241m=\u001B[39m \u001B[38;5;167;01mValueError\u001B[39;00m(\u001B[38;5;124m\"\u001B[39m\u001B[38;5;124mSomething went wrong!\u001B[39m\u001B[38;5;124m\"\u001B[39m)\n\u001B[1;32m----> 3\u001B[0m     err\u001B[38;5;241m.\u001B[39madd_note(\u001B[38;5;124m\"\u001B[39m\u001B[38;5;124mThis is a note\u001B[39m\u001B[38;5;124m\"\u001B[39m)\n\u001B[0;32m      4\u001B[0m     \u001B[38;5;28;01mraise\u001B[39;00m err\n",
      "\u001B[1;31mAttributeError\u001B[0m: 'ValueError' object has no attribute 'add_note'"
     ]
    }
   ],
   "execution_count": 5
  },
  {
   "metadata": {},
   "cell_type": "code",
   "outputs": [],
   "execution_count": null,
   "source": "",
   "id": "5bb01c8ded0d0877"
  }
 ],
 "metadata": {
  "kernelspec": {
   "display_name": "Python 3",
   "language": "python",
   "name": "python3"
  },
  "language_info": {
   "codemirror_mode": {
    "name": "ipython",
    "version": 2
   },
   "file_extension": ".py",
   "mimetype": "text/x-python",
   "name": "python",
   "nbconvert_exporter": "python",
   "pygments_lexer": "ipython2",
   "version": "2.7.6"
  }
 },
 "nbformat": 4,
 "nbformat_minor": 5
}
